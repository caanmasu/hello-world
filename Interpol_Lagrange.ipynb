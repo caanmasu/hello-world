{
 "cells": [
  {
   "cell_type": "code",
   "execution_count": 25,
   "metadata": {
    "collapsed": false
   },
   "outputs": [
    {
     "name": "stdout",
     "output_type": "stream",
     "text": [
      "Primer orden:  0.46209812037329684\n",
      "Segundo orden:  0.5658443469009826\n"
     ]
    },
    {
     "data": {
      "image/png": "[encoded data removed]",
      "text/plain": [
       "<matplotlib.figure.Figure at 0x87e4d70>"
      ]
     },
     "metadata": {},
     "output_type": "display_data"
    },
    {
     "data": {
      "image/png": "[encoded data removed]",
      "text/plain": [
       "<matplotlib.figure.Figure at 0xabff8d0>"
      ]
     },
     "metadata": {},
     "output_type": "display_data"
    }
   ],
   "source": [
    "import math\n",
    "import matplotlib.pyplot as plt\n",
    "import matplotlib.pyplot as plt2\n",
    "\n",
    "\n",
    "n = 3\n",
    "x = [1, 4, 6]\n",
    "y = []\n",
    "X = 2\n",
    "for k in range(n):\n",
    "    y.append(math.log(x[k]))\n",
    "\n",
    "def Lagrange(x,y,n,X):\n",
    "    \n",
    "    suma = 0.0\n",
    "    for i in range(n):\n",
    "        prod = y[i]\n",
    "        for j in range(n):\n",
    "            if (i!=j):\n",
    "                prod = prod*(X-x[j])/(x[i]-x[j])\n",
    "        suma = suma+prod\n",
    "    result = suma\n",
    "    return result\n",
    "\n",
    "print (\"Primer orden: \",Lagrange(x,y,2,X))\n",
    "print (\"Segundo orden: \",Lagrange(x,y,3,X))\n",
    "\n",
    "t = []\n",
    "i = 0.0\n",
    "y1 = []\n",
    "y2 = []\n",
    "while(i<50):\n",
    "    i += 0.5\n",
    "    y1.append(Lagrange(x,y,2,i))\n",
    "    y2.append(Lagrange(x,y,3,i))\n",
    "    t.append(i)\n",
    "    \n",
    "plt.title('Log(2) interpolado con Lagrange de 1° orden')\n",
    "plt.ylabel('Y')\n",
    "plt.xlabel('X')\n",
    "plt.plot(t,y1)\n",
    "plt.grid(True)\n",
    "plt.show()\n",
    "plt2.title('Log(2) interpolado con Lagrange de 2° orden')\n",
    "plt2.ylabel('Y')\n",
    "plt2.xlabel('X')\n",
    "plt2.plot(t,y2)\n",
    "plt2.axis([0, 25, -10, 3])\n",
    "plt2.grid(True)\n",
    "plt2.show()"
   ]
  },
  {
   "cell_type": "code",
   "execution_count": 34,
   "metadata": {
    "collapsed": false
   },
   "outputs": [
    {
     "name": "stdout",
     "output_type": "stream",
     "text": [
      "Ingrese la incógnita a evaluar en (log(x)): 3\n",
      "Número de puntos de la función (|R > 1): 2\n",
      "X1: 1\n",
      "X2: 2\n",
      "log(3) = 1.386294\n"
     ]
    }
   ],
   "source": [
    "import math\n",
    "\n",
    "X = float(input(\"Ingrese la incógnita a evaluar en (log(x)): \"))\n",
    "\n",
    "n = int(input(\"Número de puntos de la función (|R > 1): \"))\n",
    "\n",
    "x = []\n",
    "for i in range(n):\n",
    "    x.append(float(input(\"X%d: \"%(i+1))))\n",
    "\n",
    "y = []\n",
    "for j in range(n):\n",
    "    y.append(math.log(x[j]))\n",
    "\n",
    "def Lagrange(x,y,n,X):\n",
    "    suma=0.0\n",
    "    for i in range(n):\n",
    "        prod = y[i]\n",
    "        for j in range(n):\n",
    "            if (i!=j):\n",
    "                prod = prod*(X-x[j])/(x[i]-x[j])\n",
    "        suma = suma+prod \n",
    "    result = suma\n",
    "    return result\n",
    "\n",
    "print (\"log(%d) = %f\"%(X,Lagrange(x,y,n,X)))"
   ]
  },
  {
   "cell_type": "code",
   "execution_count": null,
   "metadata": {
    "collapsed": true
   },
   "outputs": [],
   "source": []
  }
 ],
 "metadata": {
  "kernelspec": {
   "display_name": "Python 3",
   "language": "python",
   "name": "python3"
  },
  "language_info": {
   "codemirror_mode": {
    "name": "ipython",
    "version": 3
   },
   "file_extension": ".py",
   "mimetype": "text/x-python",
   "name": "python",
   "nbconvert_exporter": "python",
   "pygments_lexer": "ipython3",
   "version": "3.5.1"
  }
 },
 "nbformat": 4,
 "nbformat_minor": 0
}
