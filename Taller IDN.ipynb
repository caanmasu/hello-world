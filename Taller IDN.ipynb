{
 "cells": [
  {
   "cell_type": "code",
   "execution_count": 1,
   "metadata": {
    "collapsed": false
   },
   "outputs": [
    {
     "name": "stdout",
     "output_type": "stream",
     "text": [
      "Punto inicial a integración: 0\n",
      "Punto terminal a integración: 0.8\n",
      "Integración de f de 0.000000 a 0.800000 con regla de Trapecio : 0.172800\n"
     ]
    }
   ],
   "source": [
    "#1. Regla de trapecio de un segmento\n",
    "\n",
    "a = float(input(\"Punto inicial a integración: \"))\n",
    "b = float(input(\"Punto terminal a integración: \"))\n",
    "\n",
    "def Reemp(x): \n",
    "    f = 0.2+25*x-200*x**2+675*x**3-900*x**4+400*x**5\n",
    "    return f\n",
    "\n",
    "def Regla(h,f0,f1):\n",
    "    trap = h*(f0+f1)/2\n",
    "    return trap\n",
    "\n",
    "print (\"Integración de f de %f a %f con regla de Trapecio : %f\" % (a, b, Regla(b-a,Reemp(a),Reemp(b))))"
   ]
  },
  {
   "cell_type": "code",
   "execution_count": 3,
   "metadata": {
    "collapsed": false
   },
   "outputs": [
    {
     "name": "stdout",
     "output_type": "stream",
     "text": [
      "Número de intervalos: 2\n",
      "X0 0\n",
      "X1 0.4\n",
      "X2 0.8\n",
      "Integración de f en los intervalos respectivos con regla de trapecio múltiple:  1.0688000000000115\n"
     ]
    }
   ],
   "source": [
    "#2. b Regla de Trapecio con múltiples segmentos\n",
    "\n",
    "n = int(input(\"Número de intervalos: \"))\n",
    "\n",
    "x = []\n",
    "for k in range(n+1):\n",
    "    x.append(float(input(\"X%d \" %k)))\n",
    "    \n",
    "f = []\n",
    "def Reemp(x):\n",
    "    f.append(0.2+25*x-200*x**2+675*x**3-900*x**4+400*x**5)\n",
    "    \n",
    "for j in range(n+1):\n",
    "    Reemp(x[j])\n",
    "\n",
    "def Regla2(h,n,f):\n",
    "    suma = f[0]\n",
    "    for i in range(n-1):\n",
    "        suma = suma+2*f[i+1]\n",
    "    suma = suma+f[n]\n",
    "    result = h*(suma/(2*n))\n",
    "    return result\n",
    "\n",
    "h = (x[n]-x[0])\n",
    "\n",
    "print (\"Integración de f en los intervalos respectivos con regla de trapecio múltiple: \", (Regla2(h,n,f)))"
   ]
  },
  {
   "cell_type": "code",
   "execution_count": 6,
   "metadata": {
    "collapsed": false
   },
   "outputs": [
    {
     "name": "stdout",
     "output_type": "stream",
     "text": [
      "Integración de f de 0 a 0.8 con regla de Trapecio:  0.1728000000000225\n"
     ]
    }
   ],
   "source": [
    "#2.\n",
    "\n",
    "a = 0\n",
    "b = 0.8\n",
    "\n",
    "def Reemp(x):\n",
    "    f = 0.2+25*x-200*x**2+675*x**3-900*x**4+400*x**5\n",
    "    return f\n",
    "\n",
    "def Regla(h,f0,f1):\n",
    "    result = h*(f0+f1)/2\n",
    "    return result\n",
    "\n",
    "print (\"Integración de f de 0 a 0.8 con regla de Trapecio: \",Regla(b-a,Reemp(a),Reemp(b)))"
   ]
  },
  {
   "cell_type": "code",
   "execution_count": 7,
   "metadata": {
    "collapsed": false
   },
   "outputs": [
    {
     "name": "stdout",
     "output_type": "stream",
     "text": [
      "Integración de 0 a 0.4 y de 0.4 a 0.8 con regla de Trapecio:  1.0688000000000115\n"
     ]
    }
   ],
   "source": [
    "#2. b\n",
    "\n",
    "n = 2\n",
    "\n",
    "x = [0, 0.4, 0.8]\n",
    "\n",
    "f = []\n",
    "def Reemp(x):\n",
    "    f.append(0.2+25*x-200*x**2+675*x**3-900*x**4+400*x**5)\n",
    "    \n",
    "for j in range(n+1):\n",
    "    Reemp(x[j])\n",
    "\n",
    "def Regla2(h,n,f):\n",
    "    suma = f[0]\n",
    "    for i in range(n-1):\n",
    "        suma = suma+2*f[i+1]\n",
    "    suma = suma+f[n]\n",
    "    result = h*(suma/(2*n))\n",
    "    return result\n",
    "h = (x[n]-x[0])\n",
    "\n",
    "print (\"Integración de 0 a 0.4 y de 0.4 a 0.8 con regla de Trapecio: \",Regla2(h,n,f))"
   ]
  },
  {
   "cell_type": "code",
   "execution_count": 9,
   "metadata": {
    "collapsed": false
   },
   "outputs": [
    {
     "name": "stdout",
     "output_type": "stream",
     "text": [
      "Punto inicial: 0\n",
      "Punto final: 0.8\n",
      "Integración de f de 0.000000 a 0.800000 con Regla de Simpson 1/3: 1.367467\n"
     ]
    }
   ],
   "source": [
    "#3. Simpson 1/3 de un segmento\n",
    "\n",
    "\n",
    "a = float(input(\"Punto inicial: \"))\n",
    "b = float(input(\"Punto final: \"))\n",
    "\n",
    "def Reemp(x):\n",
    "    f = 0.2+25*x-200*x**2+675*x**3-900*x**4+400*x**5\n",
    "    return f\n",
    "    \n",
    "def Simp1(h,f0,f1,f2):\n",
    "    result = h*(f0+4*f1+f2)/6\n",
    "    return result\n",
    "\n",
    "f0 = Reemp(a)\n",
    "\n",
    "f1 = Reemp((a+b)/2)\n",
    "\n",
    "f2 = Reemp(b)\n",
    "\n",
    "print (\"Integración de f de %f a %f con Regla de Simpson 1/3: %f\" % (a, b, Simp1(b-a,f0,f1,f2)))"
   ]
  },
  {
   "cell_type": "code",
   "execution_count": 14,
   "metadata": {
    "collapsed": false
   },
   "outputs": [
    {
     "name": "stdout",
     "output_type": "stream",
     "text": [
      "Número de intervalos: 5\n",
      "X0: 0\n",
      "X1: 0.16\n",
      "X2: 0.32\n",
      "X3: 0.48\n",
      "X4: 0.64\n",
      "X5: 0.80\n",
      "Integracion con regla de Simpson 1/3 con multiples segmentos :  1.165361152000005\n"
     ]
    }
   ],
   "source": [
    "#3. Simpson 1/3 de varios segmentos\n",
    "\n",
    "\n",
    "f,x = [],[]\n",
    "\n",
    "n = int(input(\"Número de intervalos: \"))\n",
    "\n",
    "for k in range(n+1):\n",
    "    x.append(float(input(\"X%d: \" %k)))\n",
    "\n",
    "def Reemp(x):\n",
    "    f.append(0.2+25*x-200*x**2+675*x**3-900*x**4+400*x**5)\n",
    "    \n",
    "for j in range(n+1):\n",
    "    Reemp(x[j])\n",
    "    \n",
    "def Simp1M(h,n,f):\n",
    "    suma = f[0]\n",
    "    i = 1\n",
    "    while (i<=n-1):\n",
    "        suma = suma+4*f[i]       \n",
    "        i = i+2\n",
    "    j = 2\n",
    "    while (j<=n-2):\n",
    "        suma = suma+2*f[j]  \n",
    "        j = j+2\n",
    "    suma = suma+f[n]\n",
    "    result = h*(suma/(3*n))\n",
    "    return result\n",
    "    \n",
    "h = x[n]-x[0]\n",
    "\n",
    "print (\"Integracion con regla de Simpson 1/3 con multiples segmentos : \",Simp1M(h,n,f))"
   ]
  },
  {
   "cell_type": "code",
   "execution_count": 16,
   "metadata": {
    "collapsed": false
   },
   "outputs": [
    {
     "name": "stdout",
     "output_type": "stream",
     "text": [
      "Integración de f Regla de Simpson 1/3 de un segmento:  1.3674666666666744\n"
     ]
    }
   ],
   "source": [
    "#4. Un segmento\n",
    "\n",
    "a = 0\n",
    "b = 0.8\n",
    "\n",
    "def Reemp(x):\n",
    "    f = 0.2+25*x-200*x**2+675*x**3-900*x**4+400*x**5\n",
    "    return f\n",
    "\n",
    "f0 = Reemp(a)\n",
    "f1 = Reemp((a+b)/2)\n",
    "f2 = Reemp(b)\n",
    "\n",
    "def Simp1(h,f0,f1,f2):\n",
    "    result = h*(f0+4*f1+f2)/6\n",
    "    return result\n",
    "\n",
    "print (\"Integración de f Regla de Simpson 1/3 de un segmento: \",Simp1(b-a,f0,f1,f2))"
   ]
  },
  {
   "cell_type": "code",
   "execution_count": 17,
   "metadata": {
    "collapsed": false
   },
   "outputs": [
    {
     "name": "stdout",
     "output_type": "stream",
     "text": [
      "Integracion con regla de Simpson 1/3 con multiples segmentos :  1.6234666666666642\n"
     ]
    }
   ],
   "source": [
    "#4. Varios segmentos\n",
    "\n",
    "\n",
    "\n",
    "\n",
    "x = [0,0.2,0.4,0.6,0.8]\n",
    "f = []\n",
    "n = 4\n",
    "def Reemp(x):\n",
    "    f.append(0.2+25*x-200*x**2+675*x**3-900*x**4+400*x**5)\n",
    "    \n",
    "for j in range(n+1):\n",
    "    Reemp(x[j])\n",
    "    \n",
    "def Simp1M(h,n,f):\n",
    "    suma = f[0]\n",
    "    i = 1\n",
    "    while (i<=n-1):\n",
    "        suma = suma + 4*f[i]       \n",
    "        i = i+2\n",
    "    j = 2\n",
    "    while (j<=n-2):\n",
    "        suma = suma + 2*f[j]  \n",
    "        j = j+2\n",
    "    suma = suma + f[n]\n",
    "    result = h*(suma/(3*n))\n",
    "    return result\n",
    "    \n",
    "h = x[n]-x[0]\n",
    "\n",
    "print (\"Integracion con regla de Simpson 1/3 con multiples segmentos : \",Simp1M(h,n,f))"
   ]
  },
  {
   "cell_type": "code",
   "execution_count": 19,
   "metadata": {
    "collapsed": false
   },
   "outputs": [
    {
     "name": "stdout",
     "output_type": "stream",
     "text": [
      "Inicio: 0\n",
      "Fin: 0.8\n",
      "Integración de f regla de Simpson 3/8 de un segmento:  1.519170370370378\n"
     ]
    }
   ],
   "source": [
    "# 5. Simpson 3/8 de un solo segmento\n",
    "\n",
    "a = float(input(\"Inicio: \"))\n",
    "b = float(input(\"Fin: \"))\n",
    "\n",
    "def Reemp(x):\n",
    "    f = 0.2+25*x-200*x**2+675*x**3-900*x**4+400*x**5\n",
    "    return f\n",
    "    \n",
    "def Simp3(h,f0,f1,f2,f3):\n",
    "    result = h*(f0+3*f1+3*f2+f3)/8\n",
    "    return result\n",
    "\n",
    "f0 = Reemp(a)\n",
    "f1 = Reemp((a+b)/3)\n",
    "f2 = Reemp(((a+b)/3+b)/2)\n",
    "f3 = Reemp(b)\n",
    "\n",
    "print (\"Integración de f regla de Simpson 3/8 de un segmento: \",Simp3(b-a,f0,f1,f2,f3))"
   ]
  },
  {
   "cell_type": "code",
   "execution_count": 21,
   "metadata": {
    "collapsed": false
   },
   "outputs": [
    {
     "name": "stdout",
     "output_type": "stream",
     "text": [
      "Número de segmentos: 5\n",
      "Inicio: 0\n",
      "Fin: 0.8\n",
      "1.165361152000005\n"
     ]
    }
   ],
   "source": [
    "5.\n",
    "\n",
    "\n",
    "f = []\n",
    "n = int(input(\"Número de segmentos: \"))\n",
    "a = float(input(\"Inicio: \"))\n",
    "b = float(input(\"Fin: \"))\n",
    "\n",
    "def Reemp(x):\n",
    "    f.append(0.2+25*x-200*x**2+675*x**3-900*x**4+400*x**5)\n",
    "aux = 0    \n",
    "for j in range(n+1):\n",
    "    Reemp(aux)\n",
    "    aux = aux+0.16\n",
    "    \n",
    "def Regla(h,f0,f1):\n",
    "    result = h*(f0+f1)/2\n",
    "    return result\n",
    "\n",
    "def Simp3(h,f0,f1,f2,f3):\n",
    "    simp13 = h*(f0+3*f1+3*f2+f3)/8\n",
    "    return simp13\n",
    "\n",
    "def Simp3M(h,n,f):\n",
    "    suma = f[0]\n",
    "    i = 1\n",
    "    while (i<=n-1):\n",
    "        suma = suma+4*f[i]       \n",
    "        i = i+2\n",
    "    j = 2\n",
    "    while (j<=n-2):\n",
    "        suma = suma + 2*f[j]  \n",
    "        j = j+2\n",
    "    suma = suma + f[n]\n",
    "    result = h*(suma/(3*n))\n",
    "    return result\n",
    "\n",
    "def simpInt(a,b,n,f):\n",
    "    suma = 0.0\n",
    "    h = (b-a)\n",
    "    if (n==1):\n",
    "        suma = Regla(h, f[n-1], f[n])\n",
    "    else:\n",
    "        m=n\n",
    "        if (n%2==0 and n>1):\n",
    "            suma = suma+Simp3(h, f[n-3], f[n-2], f[n-1], f[n])\n",
    "            m = n-3\n",
    "        if (m>1):\n",
    "            suma = suma + Simp1M(h,m,f)\n",
    "    simpInt = suma\n",
    "    return simpInt\n",
    "\n",
    "\n",
    "print (simpInt(a,b,n,f))"
   ]
  },
  {
   "cell_type": "code",
   "execution_count": 31,
   "metadata": {
    "collapsed": false
   },
   "outputs": [
    {
     "name": "stdout",
     "output_type": "stream",
     "text": [
      "Diferencia hacia adelante: -0.859375\n",
      "Diferencia hacia atrás: -0.878125 \n",
      "Diferencia centrada: -0.912500\n"
     ]
    }
   ],
   "source": [
    "#7.\n",
    "\n",
    "def fun(X):\n",
    "    f = -0.1*X**4-0.15*X**3-0.5*X**2-0.25*X+1.2\n",
    "    return f\n",
    "x = 0.5\n",
    "h = 0.25\n",
    "X1 = fun(x-h)\n",
    "X2 = fun(x-2*h)\n",
    "x0 = fun(x)\n",
    "x1 = fun(x+h)\n",
    "x2 = fun(x+2*h)\n",
    "\n",
    "df1 = (-x2+4*x1-3*x0)/(2*h)\n",
    "\n",
    "print (\"Diferencia hacia adelante: %f\" % df1)\n",
    "    \n",
    "df2 = (3*x0-4*X1+X2)/(2*h)\n",
    "print (\"Diferencia hacia atrás: %f \" % df2)\n",
    "    \n",
    "df3 = (-x2+8*x1-8*X1+X2)/(12*h)\n",
    "print (\"Diferencia centrada: %f\" % df3)"
   ]
  },
  {
   "cell_type": "code",
   "execution_count": 23,
   "metadata": {
    "collapsed": false
   },
   "outputs": [
    {
     "name": "stdout",
     "output_type": "stream",
     "text": [
      "Valor a evaluar la derivada: 0.5\n",
      "Tamaño de paso: 0.25\n",
      "1° derivada: -1.154688       con más términos: -0.859375\n",
      "2° derivada: -2.362500       con más términos: -1.612500\n",
      "3° derivada: -3.000000       con más términos: -2.100000\n",
      "4° derivada: -2.400000       con más términos: -2.400000\n"
     ]
    }
   ],
   "source": [
    "#23.1\n",
    "x = float(input(\"Valor a evaluar la derivada: \"))\n",
    "h = float(input(\"Tamaño de paso: \"))\n",
    "\n",
    "def fun(X):\n",
    "    f = -0.1*X**4-0.15*X**3-0.5*X**2-0.25*X+1.2\n",
    "    return f\n",
    "\n",
    "x0 = fun(x)\n",
    "x1 = fun(x+h)\n",
    "x2 = fun(x+2*h)\n",
    "x3 = fun(x+3*h)\n",
    "x4 = fun(x+4*h)\n",
    "x5 = fun(x+5*h)\n",
    "\n",
    "def PDerivada():\n",
    "    d1f1 = (x1-x0)/h\n",
    "    d1f2 = (-x2+4*x1-3*x0)/(2*h)\n",
    "    print (\"1° derivada: %f       con más términos: %f\" % (d1f1,d1f2))\n",
    "    \n",
    "def SDerivada():\n",
    "    d2f1 = (x2-2*x1+x0)/h**2\n",
    "    d2f2 = (-x3+4*x2-5*x1+2*x0)/h**2\n",
    "    print (\"2° derivada: %f       con más términos: %f\" % (d2f1,d2f2))\n",
    "    \n",
    "def TDerivada():\n",
    "    d3f1 = (x3-3*x2+3*x1-x0)/h**3\n",
    "    d3f2 = (-3*x4+14*x3-24*x2+18*x1-5*x0)/(2*h**3)\n",
    "    print (\"3° derivada: %f       con más términos: %f\" % (d3f1,d3f2))\n",
    "    \n",
    "def CDerivada():\n",
    "    d4f1 = (x4-4*x3+6*x2-4*x1+x0)/h**4\n",
    "    d4f2 = (-2*x5+11*x4-24*x3+26*x2-14*x1+3*x0)/h**4\n",
    "    print (\"4° derivada: %f       con más términos: %f\" % (d4f1,d4f2))\n",
    "    \n",
    "    \n",
    "PDerivada()\n",
    "SDerivada()\n",
    "TDerivada()\n",
    "CDerivada()"
   ]
  },
  {
   "cell_type": "code",
   "execution_count": 25,
   "metadata": {
    "collapsed": false
   },
   "outputs": [
    {
     "name": "stdout",
     "output_type": "stream",
     "text": [
      "Valor a evaluar la derivada: 0.5\n",
      "Tamaño de paso: 0.25\n",
      "1° derivada: -0.714063       con más términos: -0.878125\n",
      "2° derivada: -1.312500       con más términos: -1.612500\n",
      "3° derivada: -1.200000       con más términos: -2.100000\n",
      "4° derivada: -2.400000       con más términos: -2.400000\n"
     ]
    }
   ],
   "source": [
    "#23.2\n",
    "\n",
    "\n",
    "x = float(input(\"Valor a evaluar la derivada: \"))\n",
    "h = float(input(\"Tamaño de paso: \"))\n",
    "\n",
    "def fun(X):\n",
    "    f = -0.1*X**4-0.15*X**3-0.5*X**2-0.25*X+1.2\n",
    "    return f\n",
    "\n",
    "x0 = fun(x)\n",
    "x1 = fun(x-h)\n",
    "x2 = fun(x-2*h)\n",
    "x3 = fun(x-3*h)\n",
    "x4 = fun(x-4*h)\n",
    "x5 = fun(x-5*h)\n",
    "\n",
    "def PDerivada():\n",
    "    d1f1 = (x0-x1)/h\n",
    "    d1f2 = (3*x0-4*x1+x2)/(2*h)\n",
    "    print (\"1° derivada: %f       con más términos: %f\" % (d1f1,d1f2))\n",
    "    \n",
    "def SDerivada():\n",
    "    d2f1 = (x0-2*x1+x2)/h**2\n",
    "    d2f2 = (2*x0-5*x1+4*x2-x3)/h**2\n",
    "    print (\"2° derivada: %f       con más términos: %f\" % (d2f1,d2f2))\n",
    "    \n",
    "def TDerivada():\n",
    "    d3f1 = (x0-3*x1+3*x2-x3)/h**3\n",
    "    d3f2 = (5*x0-18*x1+24*x2-14*x3+3*x4)/(2*h**3)\n",
    "    print (\"3° derivada: %f       con más términos: %f\" % (d3f1,d3f2))\n",
    "    \n",
    "def CDerivada():\n",
    "    d4f1 = (x0-4*x1+6*x2-4*x3+x4)/h**4\n",
    "    d4f2 = (3*x0-14*x1+26*x2-24*x3+11*x4-2*x5)/h**4\n",
    "    print (\"4° derivada: %f       con más términos: %f\" % (d4f1,d4f2))\n",
    "    \n",
    "    \n",
    "PDerivada()\n",
    "SDerivada()\n",
    "TDerivada()\n",
    "CDerivada()"
   ]
  },
  {
   "cell_type": "code",
   "execution_count": 28,
   "metadata": {
    "collapsed": false
   },
   "outputs": [
    {
     "name": "stdout",
     "output_type": "stream",
     "text": [
      "Valor a evaluar la derivada: 0.5\n",
      "Tamaño de paso: 0.25\n",
      "1° derivada: -0.934375       con más términos: -0.912500\n",
      "2° derivada: -1.762500       con más términos: 15.250000\n",
      "1° derivada: -2.100000       con más términos: -15.412500\n",
      "1° derivada: -655.200000       con más términos: 1134.066667\n"
     ]
    }
   ],
   "source": [
    "#23.3\n",
    "\n",
    "x = float(input(\"Valor a evaluar la derivada: \"))\n",
    "h = float(input(\"Tamaño de paso: \"))\n",
    "\n",
    "def fun(X):\n",
    "    f = -0.1*X**4-0.15*X**3-0.5*X**2-0.25*X+1.2\n",
    "    return f\n",
    "\n",
    "x0 = fun(x)\n",
    "x1 = fun(x+h)\n",
    "x2 = fun(x+2*h)\n",
    "X1 = fun(x-h)\n",
    "X2 = fun(x-2*h)\n",
    "X3 = fun(x-3*h)\n",
    "\n",
    "def PDerivada():\n",
    "    d1f1 = (x1-X1)/(2*h)\n",
    "    d1f2 = (-x2+8*x1-8*X1+X2)/(12*h)\n",
    "    print (\"1° derivada: %f       con más términos: %f\" % (d1f1,d1f2))\n",
    "    \n",
    "def SDerivada():\n",
    "    d2f1 = (x1-2*x0+X1)/h**2\n",
    "    d2f2 = (-x2+16*x1-30*x+16*X1-X2)/(12*h**2)\n",
    "    print (\"2° derivada: %f       con más términos: %f\" % (d2f1,d2f2))\n",
    "    \n",
    "def TDerivada():\n",
    "    d3f1 = (x2-2*x1+2*X1-X2)/(2*h**3)\n",
    "    d3f2 = (-x3+8*x2-13*x1+13*X1-8*X2+X3)/(8*h**3)\n",
    "    print (\"1° derivada: %f       con más términos: %f\" % (d3f1,d3f2))\n",
    "    \n",
    "def CDerivada():\n",
    "    d4f1 = (x2-4*x1+6*x-4*X1+X2)/h**4\n",
    "    d4f2 = (-x3+12*x2+39*x1+56*x-39*X1+12*X2+X3)/(6*h**4)\n",
    "    print (\"1° derivada: %f       con más términos: %f\" % (d4f1,d4f2))\n",
    "    \n",
    "    \n",
    "PDerivada()\n",
    "SDerivada()\n",
    "TDerivada()\n",
    "CDerivada()"
   ]
  }
 ],
 "metadata": {
  "kernelspec": {
   "display_name": "Python 3",
   "language": "python",
   "name": "python3"
  },
  "language_info": {
   "codemirror_mode": {
    "name": "ipython",
    "version": 3
   },
   "file_extension": ".py",
   "mimetype": "text/x-python",
   "name": "python",
   "nbconvert_exporter": "python",
   "pygments_lexer": "ipython3",
   "version": "3.5.1"
  }
 },
 "nbformat": 4,
 "nbformat_minor": 0
}
