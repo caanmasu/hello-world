{
 "cells": [
  {
   "cell_type": "code",
   "execution_count": 26,
   "metadata": {
    "collapsed": false
   },
   "outputs": [
    {
     "name": "stdout",
     "output_type": "stream",
     "text": [
      "Coeficiente de correlación 1:  0.998341 \n",
      "Coeficiente de correlación 2:  0.995652 \n"
     ]
    }
   ],
   "source": [
    "import math\n",
    "import matplotlib.pyplot as plt\n",
    "\n",
    "n = 15\n",
    "\n",
    "med=[10,16.3,23,27.5,31,35.6,39,41.5,42.9,45,46,45.5,46,49,50]\n",
    "v1=[8.953,16.405,22.607,27.769,32.065,35.641,38.617,41.095,43.156,44.872,46.301,47.490,48.479,49.303,49.998]\n",
    "v2=[11.24,18.57,23.729,27.556,30.509,32.855,34.766,36.351,37.687,38.829,39.816,40.678,41.437,42.11,42.712]\n",
    "\n",
    "def suma(v):\n",
    "    acum=0.0\n",
    "    for i in range(0,n):\n",
    "        acum += v[i]\n",
    "    return acum\n",
    "def cuadrado(v):\n",
    "    acum=0.0\n",
    "    for i in range(0,n):\n",
    "        acum += (v[i])**2 \n",
    "    return acum\n",
    "def multi(v1,v2):\n",
    "    mult = 1.0\n",
    "    for j in range(n):\n",
    "        mult += v1[j]*v2[j]\n",
    "    return mult\n",
    "def raiz(v):\n",
    "    raiz = math.sqrt(n*cuadrado(v)-(suma(v))**2)\n",
    "    return raiz\n",
    "def corre1():\n",
    "    nominador = n*(multi(med,v1))-suma(med)*suma(v1)\n",
    "    r = nominador/(raiz(med)*raiz(v1))\n",
    "    return r\n",
    "def corre2():\n",
    "    nominador = n*(multi(med,v2))-suma(med)*suma(v2)\n",
    "    r = nominador/(raiz(med)*raiz(v2))\n",
    "    return r\n",
    "def reg1():\n",
    "    a1 = (n*multi(med,v1)-(suma(med)*suma(v1)))/(n*cuadrado(med)-suma(med)**2)\n",
    "    a0 = (suma(v1)/n)-a1*(suma(med)/n)\n",
    "    for i in range(55):\n",
    "        y1.append(a0+a1*i)\n",
    "        t.append(i)\n",
    "def reg2():\n",
    "    a1 = (n*multi(med,v2)-(suma(med)*suma(v2)))/(n*cuadrado(med)-suma(med)**2)\n",
    "    a0 = (suma(v2)/n)-a1*(suma(med)/n)\n",
    "    for i in range(55):\n",
    "        y2.append(a0+a1*i)\n",
    "        \n",
    "reg1()\n",
    "reg2()\n",
    "\n",
    "print (\"Coeficiente de correlación 1:  %f \" % corre1())\n",
    "print (\"Coeficiente de correlación 2:  %f \" % corre2())\n",
    "\n",
    "plt.ylabel('Velocidad calculada 1 (verde) y 2 (amarillo)')\n",
    "plt.plot(med, v1,'go')\n",
    "plt.plot(t,y1)\n",
    "\n",
    "plt.xlabel('Velocidad medida')\n",
    "plt.plot(med, v2,'yo')\n",
    "plt.plot(t,y2)\n",
    "plt.grid(True)\n",
    "plt.show()"
   ]
  },
  {
   "cell_type": "code",
   "execution_count": null,
   "metadata": {
    "collapsed": true
   },
   "outputs": [],
   "source": []
  }
 ],
 "metadata": {
  "kernelspec": {
   "display_name": "Python 3",
   "language": "python",
   "name": "python3"
  },
  "language_info": {
   "codemirror_mode": {
    "name": "ipython",
    "version": 3
   },
   "file_extension": ".py",
   "mimetype": "text/x-python",
   "name": "python",
   "nbconvert_exporter": "python",
   "pygments_lexer": "ipython3",
   "version": "3.5.1"
  }
 },
 "nbformat": 4,
 "nbformat_minor": 0
}
