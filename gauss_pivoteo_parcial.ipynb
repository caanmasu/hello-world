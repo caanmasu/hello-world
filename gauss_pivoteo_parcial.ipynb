{
 "cells": [
  {
   "cell_type": "code",
   "execution_count": 7,
   "metadata": {
    "collapsed": false
   },
   "outputs": [
    {
     "name": "stdout",
     "output_type": "stream",
     "text": [
      "¿Cuántas incógnitas tiene la matriz? 2\n",
      "\n",
      "Coef 1 del vector solución = 3\n",
      "M[11] = 5\n",
      "M[12] = -2\n",
      "\n",
      "Coef 2 del vector solución = -3\n",
      "M[21] = 1\n",
      "M[22] = 2\n",
      "X1 = 0.000000\n",
      "X2 = -1.500000\n"
     ]
    }
   ],
   "source": [
    "#Pivoteo parcial\n",
    "\n",
    "b = []\n",
    "det = 1\n",
    "n = int(input(\"¿Cuántas incógnitas tiene la matriz? \"))\n",
    "\n",
    "for p in range(n):\n",
    "    m.append([0.0]*n)\n",
    "\n",
    "for i in range(n):\n",
    "    k=i+1\n",
    "    b.append(float(input(\"\\nCoef %d del vector solución = \" % k)))\n",
    "    x.insert(i,0.0)\n",
    "    s.insert(i,0.0)\n",
    "    for j in range(n):\n",
    "        h = j+1\n",
    "        m[i][j] = float(input(\"M[%d%d] = \" %(k,h)))\n",
    "        \n",
    "def eliminate(m,s,n,b,tol,er):\n",
    "    for k in range(0,n):\n",
    "        pivot(m,b,s,n,k)\n",
    "        if (abs(m[k][k]/s[k])<tol):\n",
    "            er=-1\n",
    "        for i in range(k+1,n):\n",
    "            factor = m[i][k]/m[k][k]\n",
    "            for j in range (k+1,n):\n",
    "                m[i][j]=m[i][j]-factor*m[k][j]\n",
    "            b[i]=b[i]-factor*b[k]\n",
    "    \n",
    "    if (abs(m[k][k]/s[k])<tol):\n",
    "        er=-1\n",
    "        \n",
    "def pivot(m,b,s,n,k):\n",
    "    p,k=0,0\n",
    "    p=k\n",
    "    big = abs(m[k][k]/s[k])\n",
    "    for i in range(k+1,n):\n",
    "        dummy = abs(m[i][k]/s[i])\n",
    "        if (dummy>big):\n",
    "            big=dummy\n",
    "            p=i\n",
    "    if (p!=k):\n",
    "        for j in range(k,n):\n",
    "            dummy=m[p][j]\n",
    "            m[p][j]=m[k][j]\n",
    "            m[k][j]=dummy\n",
    "        dummy=b[p]\n",
    "        b[p]=b[k]\n",
    "        b[k]=dummy\n",
    "        dummy=s[p]\n",
    "        s[p]=s[k]\n",
    "        s[k]=dummy\n",
    "    \n",
    "def substitute(m,n,b,x):\n",
    "    x[n-1]=b[n-1]/m[n-1][n-1]\n",
    "    i=n-1\n",
    "    while (i>=0):\n",
    "        suma = 0\n",
    "        for j in range(i+1,n):\n",
    "            suma=suma+x[j]*m[i][j]\n",
    "        x[i]=(b[i]-suma)/m[i][i]\n",
    "        i -= 1\n",
    "    for i in range(0,n):\n",
    "        k=i+1\n",
    "        print (\"X%d = %f\" % (k,x[i]))\n",
    "    \n",
    "def gauss(m,b,n,x,tol,er):\n",
    "    for i in range(0,n):\n",
    "        s[i]=abs(m[i][1])\n",
    "        for j in range(1,n):\n",
    "            if (abs(m[i][j])>s[i]):\n",
    "                s[i]=abs(m[i][j])\n",
    "    eliminate(m,s,n,b,tol,er)\n",
    "    if (er!=-1):\n",
    "        substitute(m,n,b,x)\n",
    "        \n",
    "        \n",
    "gauss(m,b,n,x,tol,er)"
   ]
  },
  {
   "cell_type": "code",
   "execution_count": null,
   "metadata": {
    "collapsed": true
   },
   "outputs": [],
   "source": []
  }
 ],
 "metadata": {
  "kernelspec": {
   "display_name": "Python 3",
   "language": "python",
   "name": "python3"
  },
  "language_info": {
   "codemirror_mode": {
    "name": "ipython",
    "version": 3
   },
   "file_extension": ".py",
   "mimetype": "text/x-python",
   "name": "python",
   "nbconvert_exporter": "python",
   "pygments_lexer": "ipython3",
   "version": "3.5.1"
  }
 },
 "nbformat": 4,
 "nbformat_minor": 0
}
