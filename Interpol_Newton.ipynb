{
 "cells": [
  {
   "cell_type": "code",
   "execution_count": 10,
   "metadata": {
    "collapsed": false
   },
   "outputs": [
    {
     "name": "stdout",
     "output_type": "stream",
     "text": [
      "Ingrese el x al que va a aproximar (ln(x)): 2\n",
      "Número de puntos de la función (|R > 1): 2\n",
      "X0: 1\n",
      "X1: 2\n",
      "Aproximación a ln(2.000000) = 0.693147\n"
     ]
    }
   ],
   "source": [
    "import math\n",
    "#Interpolación de Newton\n",
    "\n",
    "yint = []\n",
    "\n",
    "xi= float (input(\"Ingrese el x al que va a aproximar (ln(x)): \"))\n",
    "\n",
    "n = int (input(\"Número de puntos de la función (|R > 1): \"))\n",
    "\n",
    "if (n<=1):\n",
    "    print (\"Tiene que haber más de un punto\");\n",
    "\n",
    "Xi = []\n",
    "pun = []\n",
    "\n",
    "for i in range(n):\n",
    "    Xi.append(float(input(\"X%d: \" % (i))))\n",
    "    pun.append([0.0]*n)\n",
    "     \n",
    "y = []    \n",
    "for k in range(n):\n",
    "    y.append(math.log(Xi[k]))\n",
    "\n",
    "def function (Xi, y, n, xi, yint,ea):\n",
    "    \n",
    "    for i in range(n):\n",
    "        pun[i][0] = y[i]\n",
    "        \n",
    "    for j in range(1,n):\n",
    "        for i in range(n-j):\n",
    "            pun[i][j]=(pun[i+1][j-1]-pun[i][j-1])/(Xi[i+j]-Xi[i])\n",
    "            \n",
    "    termino = 1.0\n",
    "    yint.append(fdd[0][0])\n",
    "    z = []\n",
    "    for order in range(1,n):\n",
    "        termino = termino*(xi-Xi[order-1])\n",
    "        yint2 = yint[order-1]+pun[0][order]*termino\n",
    "        z.append(yint2-yint[order-1])\n",
    "        yint.append(yint2)\n",
    "        \n",
    "    return yint2\n",
    "\n",
    "print (\"Aproximación a log(%f) = %f\"%(xi,function(Xi,y,n,xi,yint,z)))"
   ]
  }
 ],
 "metadata": {
  "kernelspec": {
   "display_name": "Python 3",
   "language": "python",
   "name": "python3"
  },
  "language_info": {
   "codemirror_mode": {
    "name": "ipython",
    "version": 3
   },
   "file_extension": ".py",
   "mimetype": "text/x-python",
   "name": "python",
   "nbconvert_exporter": "python",
   "pygments_lexer": "ipython3",
   "version": "3.5.1"
  }
 },
 "nbformat": 4,
 "nbformat_minor": 0
}
