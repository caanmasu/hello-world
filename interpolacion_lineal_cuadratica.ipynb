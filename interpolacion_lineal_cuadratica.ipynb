{
 "cells": [
  {
   "cell_type": "code",
   "execution_count": 1,
   "metadata": {
    "collapsed": false
   },
   "outputs": [
    {
     "name": "stdout",
     "output_type": "stream",
     "text": [
      "k = Ln(2) interpol 1-6 =  0.358352 con error de E = 48.300750\n",
      "k = Ln(2) interpol 1-4 =  0.462098 con error de E = 33.333333\n"
     ]
    }
   ],
   "source": [
    "#Taller de interpolación lineal y cuadrática\n",
    "import math\n",
    "\n",
    "def function(x):\n",
    "    f = math.log(x)\n",
    "    return f\n",
    "\n",
    "inf = 1\n",
    "sup = 6\n",
    "n = 2\n",
    "\n",
    "fx1 = function(inf)+((function(sup)-function(inf))/(sup-inf))*(n-inf)\n",
    "error1 = (math.log(2)-fx1)/math.log(2)*100\n",
    "\n",
    "\n",
    "sup = 4\n",
    "\n",
    "fx2 = function(inf)+((function(sup)-function(inf))/(sup-inf))*(n-inf)\n",
    "error2 = (math.log(2)-fx2)/math.log(2)*100\n",
    "\n",
    "print (\"k = Ln(2) interpol 1-6 =  %f con error de E = %f\"% (fx1, error1))\n",
    "print (\"k = Ln(2) interpol 1-4 =  %f con error de E = %f\"% (fx2, error2))\n"
   ]
  },
  {
   "cell_type": "code",
   "execution_count": 5,
   "metadata": {
    "collapsed": false
   },
   "outputs": [
    {
     "name": "stdout",
     "output_type": "stream",
     "text": [
      "k = Ln(2) Interpol cuadrática 0.565844 con error E = 18.365917\n"
     ]
    }
   ],
   "source": [
    "import math\n",
    "\n",
    "x0 = 1\n",
    "x1 = 4\n",
    "x2 = 6\n",
    "x = 2\n",
    "\n",
    "def function(x):\n",
    "    f = math.log(x)\n",
    "    return f\n",
    "\n",
    "fx0 = function(x0)\n",
    "\n",
    "fx1 = function(x1)\n",
    "\n",
    "fx2 = function(x2)\n",
    "\n",
    "k0 = fx0\n",
    "k1 = (fx1-fx0)/(x1-x0)\n",
    "k2 = (((fx2-fx1)/(x2-x1))-((fx1-fx0)/(x1-x0)))/(x2-x0)\n",
    "\n",
    "f2x = k0+k1*(x-x0)+k2*(x-x0)*(x-x1)\n",
    "error = (math.log(2)-f2x)/math.log(2)*100\n",
    "\n",
    "print (\"k = Ln(2) Interpol cuadrática %f con error E = %f\" % (f2x, error))\n"
   ]
  },
  {
   "cell_type": "code",
   "execution_count": null,
   "metadata": {
    "collapsed": true
   },
   "outputs": [],
   "source": []
  }
 ],
 "metadata": {
  "kernelspec": {
   "display_name": "Python 3",
   "language": "python",
   "name": "python3"
  },
  "language_info": {
   "codemirror_mode": {
    "name": "ipython",
    "version": 3
   },
   "file_extension": ".py",
   "mimetype": "text/x-python",
   "name": "python",
   "nbconvert_exporter": "python",
   "pygments_lexer": "ipython3",
   "version": "3.5.1"
  }
 },
 "nbformat": 4,
 "nbformat_minor": 0
}
